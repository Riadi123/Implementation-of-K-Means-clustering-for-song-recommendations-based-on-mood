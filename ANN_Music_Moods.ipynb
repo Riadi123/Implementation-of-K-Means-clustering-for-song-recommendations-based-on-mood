{
  "cells": [
    {
      "cell_type": "markdown",
      "metadata": {
        "id": "ZZv3cJynAdx-"
      },
      "source": [
        "# **Import Module.**"
      ]
    },
    {
      "cell_type": "code",
      "execution_count": null,
      "metadata": {
        "colab": {
          "base_uri": "https://localhost:8080/"
        },
        "id": "ZnnZdOh7UPL8",
        "outputId": "b88e97e3-6c76-40d3-cdd7-fbbd9bcb0a6d"
      },
      "outputs": [
        {
          "output_type": "stream",
          "name": "stdout",
          "text": [
            "Collecting helpers\n",
            "  Downloading helpers-0.2.0-py3-none-any.whl (2.3 kB)\n",
            "Installing collected packages: helpers\n",
            "Successfully installed helpers-0.2.0\n"
          ]
        }
      ],
      "source": [
        "!pip install helpers"
      ]
    },
    {
      "cell_type": "code",
      "execution_count": null,
      "metadata": {
        "colab": {
          "base_uri": "https://localhost:8080/"
        },
        "id": "k0Y6bQAQ6FyD",
        "outputId": "1f2c7a0c-1ac5-4537-b263-ed8a0e492020"
      },
      "outputs": [
        {
          "output_type": "error",
          "ename": "ModuleNotFoundError",
          "evalue": "ignored",
          "traceback": [
            "\u001b[0;31m---------------------------------------------------------------------------\u001b[0m",
            "\u001b[0;31mModuleNotFoundError\u001b[0m                       Traceback (most recent call last)",
            "\u001b[0;32m<ipython-input-2-7a6ae6e8234e>\u001b[0m in \u001b[0;36m<cell line: 11>\u001b[0;34m()\u001b[0m\n\u001b[1;32m      9\u001b[0m \u001b[0;32mfrom\u001b[0m \u001b[0mkeras\u001b[0m\u001b[0;34m.\u001b[0m\u001b[0mmodels\u001b[0m \u001b[0;32mimport\u001b[0m \u001b[0mSequential\u001b[0m\u001b[0;34m\u001b[0m\u001b[0;34m\u001b[0m\u001b[0m\n\u001b[1;32m     10\u001b[0m \u001b[0;32mfrom\u001b[0m \u001b[0mkeras\u001b[0m\u001b[0;34m.\u001b[0m\u001b[0mlayers\u001b[0m \u001b[0;32mimport\u001b[0m \u001b[0mDense\u001b[0m\u001b[0;34m\u001b[0m\u001b[0;34m\u001b[0m\u001b[0m\n\u001b[0;32m---> 11\u001b[0;31m \u001b[0;32mfrom\u001b[0m \u001b[0mkeras\u001b[0m\u001b[0;34m.\u001b[0m\u001b[0mwrappers\u001b[0m\u001b[0;34m.\u001b[0m\u001b[0mscikit_learn\u001b[0m \u001b[0;32mimport\u001b[0m \u001b[0mKerasClassifier\u001b[0m\u001b[0;34m\u001b[0m\u001b[0;34m\u001b[0m\u001b[0m\n\u001b[0m\u001b[1;32m     12\u001b[0m \u001b[0;32mfrom\u001b[0m \u001b[0mkeras\u001b[0m\u001b[0;34m.\u001b[0m\u001b[0mutils\u001b[0m \u001b[0;32mimport\u001b[0m \u001b[0mnp_utils\u001b[0m\u001b[0;34m\u001b[0m\u001b[0;34m\u001b[0m\u001b[0m\n\u001b[1;32m     13\u001b[0m \u001b[0;31m#Import tensorflow and disable the v2 behavior and eager mode\u001b[0m\u001b[0;34m\u001b[0m\u001b[0;34m\u001b[0m\u001b[0m\n",
            "\u001b[0;31mModuleNotFoundError\u001b[0m: No module named 'keras.wrappers'",
            "",
            "\u001b[0;31m---------------------------------------------------------------------------\u001b[0;32m\nNOTE: If your import is failing due to a missing package, you can\nmanually install dependencies using either !pip or !apt.\n\nTo view examples of installing some common dependencies, click the\n\"Open Examples\" button below.\n\u001b[0;31m---------------------------------------------------------------------------\u001b[0m\n"
          ],
          "errorDetails": {
            "actions": [
              {
                "action": "open_url",
                "actionText": "Open Examples",
                "url": "/notebooks/snippets/importing_libraries.ipynb"
              }
            ]
          }
        }
      ],
      "source": [
        "#Script to obtain data\n",
        "from helpers import *\n",
        "import numpy as np\n",
        "import pandas as pd\n",
        "import matplotlib.pyplot as plt\n",
        "import seaborn as sns\n",
        "\n",
        "#Libraries to create the multiclass model\n",
        "from keras.models import Sequential\n",
        "from keras.layers import Dense\n",
        "from keras.wrappers.scikit_learn import KerasClassifier\n",
        "from keras.utils import np_utils\n",
        "#Import tensorflow and disable the v2 behavior and eager mode\n",
        "import tensorflow as tf\n",
        "tf.compat.v1.disable_eager_execution()\n",
        "tf.compat.v1.disable_v2_behavior()\n",
        "\n",
        "#Library to validate the model\n",
        "from sklearn.model_selection import cross_val_score, KFold, train_test_split\n",
        "from sklearn.preprocessing import LabelEncoder,MinMaxScaler\n",
        "from sklearn.pipeline import Pipeline\n",
        "from sklearn.metrics import confusion_matrix, accuracy_score"
      ]
    },
    {
      "cell_type": "code",
      "execution_count": null,
      "metadata": {
        "id": "UjmKydBr5AKv"
      },
      "outputs": [],
      "source": [
        "from google.colab import drive #untuk membaca dataset melalui google drive\n",
        "drive.mount('/content/drive/')  #lokasi folder dari google drive\n",
        "%cd /content/drive/My Drive/Dataset/"
      ]
    },
    {
      "cell_type": "markdown",
      "metadata": {
        "id": "jymFsd_0AsEk"
      },
      "source": [
        "# **1. Dataset**"
      ]
    },
    {
      "cell_type": "code",
      "execution_count": null,
      "metadata": {
        "id": "O2ZQJmvqeY2_"
      },
      "outputs": [],
      "source": [
        "df = pd.read_csv(\"data_moods.csv\")"
      ]
    },
    {
      "cell_type": "code",
      "execution_count": null,
      "metadata": {
        "id": "wksY77OFiOup"
      },
      "outputs": [],
      "source": [
        "df.info()\n",
        "df"
      ]
    },
    {
      "cell_type": "markdown",
      "metadata": {
        "id": "R2hMguPeB0FQ"
      },
      "source": [
        "# **1. Data Cleaning**"
      ]
    },
    {
      "cell_type": "code",
      "execution_count": null,
      "metadata": {
        "id": "4ae4XVHnehIZ"
      },
      "outputs": [],
      "source": [
        "# col_features = ['danceability', 'energy', 'loudness', 'mode', 'speechiness', 'acousticness', 'instrumentalness', 'liveness', 'valence', 'tempo', 'duration_ms']\n",
        "# X= MinMaxScaler().fit_transform(df[col_features])\n",
        "# X2 = np.array(df[col_features])\n",
        "# Y = df['mood']\n",
        "col_features = df.columns[6:-3]\n",
        "X = MinMaxScaler().fit_transform(df[col_features])\n",
        "X2 = np.array(df[col_features])\n",
        "Y = df['mood']"
      ]
    },
    {
      "cell_type": "code",
      "execution_count": null,
      "metadata": {
        "id": "-qd1knPlDOhl"
      },
      "outputs": [],
      "source": []
    },
    {
      "cell_type": "markdown",
      "metadata": {
        "id": "s74Cs_4qCLKH"
      },
      "source": [
        "# **2. Split Dataset**"
      ]
    },
    {
      "cell_type": "code",
      "execution_count": null,
      "metadata": {
        "id": "8QusXfhHg6oy"
      },
      "outputs": [],
      "source": [
        "#Encodethe categories\n",
        "encoder = LabelEncoder()\n",
        "encoder.fit(Y)\n",
        "encoded_y = encoder.transform(Y)\n",
        "\n",
        "\n",
        "#Convert to  dummy (Not necessary in my case)\n",
        "dummy_y = np_utils.to_categorical(encoded_y)\n",
        "\n",
        "X_train,X_test,Y_train,Y_test = train_test_split(X,encoded_y,test_size=0.2,random_state=15)\n",
        "\n",
        "target = pd.DataFrame({'mood':df['mood'].tolist(),'encode':encoded_y}).drop_duplicates().sort_values(['encode'],ascending=True)\n",
        "target"
      ]
    },
    {
      "cell_type": "markdown",
      "metadata": {
        "id": "pnl922k0CH9d"
      },
      "source": [
        "# **3. Create NN Model**"
      ]
    },
    {
      "cell_type": "code",
      "execution_count": null,
      "metadata": {
        "id": "feyuKC1DlkET"
      },
      "outputs": [],
      "source": [
        "def base_model():\n",
        "    #Create the model\n",
        "    model = Sequential()\n",
        "    #Add 1 layer with 8 nodes,input of 4 dim with relu function\n",
        "    model.add(Dense(12,input_dim=10,activation='relu'))\n",
        "    #Add 1 layer with output 3 and softmax function\n",
        "    model.add(Dense(4,activation='softmax'))\n",
        "    #Compile the model using sigmoid loss function and adam optim\n",
        "    model.compile(loss='categorical_crossentropy',optimizer='adam',\n",
        "                 metrics=['accuracy'])\n",
        "    return model"
      ]
    },
    {
      "cell_type": "code",
      "execution_count": null,
      "metadata": {
        "id": "7QDOwoQSnIkc"
      },
      "outputs": [],
      "source": [
        "#Configure the model\n",
        "estimator = KerasClassifier(build_fn=base_model,epochs=310,batch_size=200,verbose=0)"
      ]
    },
    {
      "cell_type": "markdown",
      "metadata": {
        "id": "vnwlQqh9CbSA"
      },
      "source": [
        "# **4. Evaluate The Model**"
      ]
    },
    {
      "cell_type": "code",
      "execution_count": null,
      "metadata": {
        "id": "9gaGMhApTVEW"
      },
      "outputs": [],
      "source": [
        "#Evaluate the model using KFold cross validation\n",
        "kfold = KFold(n_splits=10,shuffle=True)\n",
        "results = cross_val_score(estimator,X,encoded_y,cv=kfold)\n",
        "print(\"Baseline: %.2f%% (%.2f%%)\" % (results.mean()*100,results.std()*100))"
      ]
    },
    {
      "cell_type": "code",
      "execution_count": null,
      "metadata": {
        "id": "3c8qMmEJm-fZ"
      },
      "outputs": [],
      "source": [
        "estimator.fit(X_train,Y_train)\n",
        "y_preds = estimator.predict(X_test)"
      ]
    },
    {
      "cell_type": "code",
      "execution_count": null,
      "metadata": {
        "id": "BZF55M5unx6Y"
      },
      "outputs": [],
      "source": [
        "cm = confusion_matrix(Y_test,y_preds)\n",
        "ax = plt.subplot()\n",
        "sns.heatmap(cm,annot=True,ax=ax)\n",
        "\n",
        "labels = target['mood']\n",
        "ax.set_xlabel('Predicted labels')\n",
        "ax.set_ylabel('True labels')\n",
        "ax.set_title('Confusion Matrix')\n",
        "ax.xaxis.set_ticklabels(labels)\n",
        "ax.yaxis.set_ticklabels(labels)\n",
        "plt.show()\n",
        "\n",
        "print(\"Accuracy Score\",accuracy_score(Y_test,y_preds))\n"
      ]
    },
    {
      "cell_type": "code",
      "execution_count": null,
      "metadata": {
        "id": "yQsLsYC7VcW8"
      },
      "outputs": [],
      "source": [
        "def predict_mood(id_song):\n",
        "    #Join the model and the scaler in a Pipeline\n",
        "    pip = Pipeline([('minmaxscaler',MinMaxScaler()),('keras',KerasClassifier(build_fn=base_model,epochs=300,\n",
        "                                                                             batch_size=200,verbose=0))])\n",
        "    #Fit the Pipeline\n",
        "    pip.fit(X2,encoded_y)\n",
        "\n",
        "    #Obtain the features of the song\n",
        "    preds = get_songs_features(id_song)\n",
        "    #Pre-process the features to input the Model\n",
        "    preds_features = np.array(preds[0][6:-2]).reshape(-1,1).T\n",
        "\n",
        "    #Predict the features of the song\n",
        "    results = pip.predict(preds_features)\n",
        "\n",
        "    mood = np.array(target['mood'][target['encode']==int(results)])\n",
        "    name_song = preds[0][0]\n",
        "    artist = preds[0][2]\n",
        "\n",
        "    return print(\"{0} by {1} is a {2} song\".format(name_song,artist,mood[0].upper()))\n",
        "    #print(f\"{name_song} by {artist} is a {mood[0].upper()} song\")"
      ]
    },
    {
      "cell_type": "code",
      "execution_count": null,
      "metadata": {
        "id": "ASR0S4y6Vdjv"
      },
      "outputs": [],
      "source": [
        "predict_mood('2H7PHVdQ3mXqEHXcvclTB0')"
      ]
    },
    {
      "cell_type": "code",
      "source": [],
      "metadata": {
        "id": "dEL0OkNUktIk"
      },
      "execution_count": null,
      "outputs": []
    }
  ],
  "metadata": {
    "colab": {
      "provenance": []
    },
    "kernelspec": {
      "display_name": "Python 3",
      "name": "python3"
    },
    "language_info": {
      "name": "python"
    }
  },
  "nbformat": 4,
  "nbformat_minor": 0
}